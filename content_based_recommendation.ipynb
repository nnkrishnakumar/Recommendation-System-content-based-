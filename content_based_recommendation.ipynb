{
 "cells": [
  {
   "cell_type": "markdown",
   "id": "7e5319c4-2ad1-479f-a090-45cb7b9f1160",
   "metadata": {},
   "source": [
    "Recommendatation system are of two type:\n",
    "    \n",
    "    > Content based   ---> youtube recommendation based, \n",
    "    \n",
    "    > User/item based   ---> bread +butter"
   ]
  },
  {
   "cell_type": "markdown",
   "id": "44c09d6b-1fce-4f93-858e-17a5f5e9f1a9",
   "metadata": {},
   "source": [
    "# similarity score\n",
    "\n",
    "cosine similarity lies between -1 to 1 "
   ]
  },
  {
   "cell_type": "code",
   "execution_count": 1,
   "id": "16614772-a215-48db-918e-dd550e807770",
   "metadata": {},
   "outputs": [],
   "source": [
    "# Step1 ---> creating data on small scale first\n",
    "\n",
    "s1=\"I learn java\"\n",
    "s2=\"I learn python\"\n",
    "s3=\"Virth kohali is a crikerter\"\n",
    "corpus=[s1,s2,s3]"
   ]
  },
  {
   "cell_type": "code",
   "execution_count": 2,
   "id": "4d94755b-b88e-4a30-b8fd-388650c4e3d0",
   "metadata": {},
   "outputs": [],
   "source": [
    "from sklearn.feature_extraction.text import TfidfVectorizer"
   ]
  },
  {
   "cell_type": "code",
   "execution_count": 3,
   "id": "601d89e4-b2c1-478f-a4be-0219fb50e43a",
   "metadata": {},
   "outputs": [],
   "source": [
    "#Step 2 ---> filtering data means converting data into corpus into small letters and removing stop words\n",
    "tf=TfidfVectorizer(lowercase=True,stop_words='english')"
   ]
  },
  {
   "cell_type": "code",
   "execution_count": 4,
   "id": "d8d98fb9-2b66-492c-bc89-bf723655bea5",
   "metadata": {},
   "outputs": [],
   "source": [
    "# Step 3 ---> sparse_matrix to dense_matrix conversion\n",
    "sparse_matix=tf.fit_transform(corpus)\n",
    "dense_matrix=sparse_matix.toarray()"
   ]
  },
  {
   "cell_type": "code",
   "execution_count": 5,
   "id": "680ccd72-889a-43a8-a4d4-f7b1ce1ebc6a",
   "metadata": {},
   "outputs": [],
   "source": [
    "# Step 4 ---> cosine_similarity help us to get the distance between vectors using math's cos angle, where cos 90 means 0 mean not match between 2 vector and cos0 means 1 \n",
    "# which mean it match 100%  to each other.\n",
    "# In cosine_similarity, cos degree value lies between -1 to +1 where -1 is absolutly oppositive and +1 means absolutly same.\n",
    "# Note: cosine similarity show similarity when degree is bigger\n",
    "\n",
    "from sklearn.metrics.pairwise import cosine_similarity\n",
    "cs=cosine_similarity(dense_matrix)"
   ]
  },
  {
   "cell_type": "code",
   "execution_count": 6,
   "id": "18a41cd0-41a4-4a38-8288-ba7a9751a822",
   "metadata": {},
   "outputs": [],
   "source": [
    "# Step 5 ---> cosine_distance help to find the distance between two vector or more. If the distance is higher that means not match between two vectors. if distance is\n",
    "            # lower that means both vectors are same.\n",
    "# Note: cosine distance show similarity when distance is smaller\n",
    "\n",
    "from sklearn.metrics.pairwise import cosine_distances\n",
    "cd=cosine_distances(dense_matrix)"
   ]
  },
  {
   "cell_type": "code",
   "execution_count": 1,
   "id": "3598391c-5b99-4f40-9b3a-0dd0f3b93642",
   "metadata": {},
   "outputs": [],
   "source": [
    "# step 6 --> importing pandas to read dataset of a movie and clean it.\n",
    "\n",
    "import pandas as pd\n",
    "df=pd.read_csv(\"movies.csv\")"
   ]
  },
  {
   "cell_type": "code",
   "execution_count": 8,
   "id": "fecf94b0-7a55-45b5-ae84-510edc003e6c",
   "metadata": {},
   "outputs": [],
   "source": [
    "# step 7 ---> filterning columns which is required \n",
    "df1=df[['name','rating','description']]"
   ]
  },
  {
   "cell_type": "code",
   "execution_count": 9,
   "id": "118bbbbc-8fe3-42db-80a6-a0286ea57d98",
   "metadata": {},
   "outputs": [
    {
     "data": {
      "text/plain": [
       "name              0\n",
       "rating            0\n",
       "description    1098\n",
       "dtype: int64"
      ]
     },
     "execution_count": 9,
     "metadata": {},
     "output_type": "execute_result"
    }
   ],
   "source": [
    "# step 8 ---> checking null value in the datasets\n",
    "df1.isnull().sum()\n"
   ]
  },
  {
   "cell_type": "code",
   "execution_count": 10,
   "id": "a9175e46-607b-41ee-91d2-571316e099e2",
   "metadata": {},
   "outputs": [
    {
     "name": "stderr",
     "output_type": "stream",
     "text": [
      "C:\\Users\\786nn\\AppData\\Local\\Temp\\ipykernel_21040\\4136920275.py:1: SettingWithCopyWarning: \n",
      "A value is trying to be set on a copy of a slice from a DataFrame\n",
      "\n",
      "See the caveats in the documentation: https://pandas.pydata.org/pandas-docs/stable/user_guide/indexing.html#returning-a-view-versus-a-copy\n",
      "  df1.description.dropna(inplace=True)\n"
     ]
    }
   ],
   "source": [
    "df1.description.dropna(inplace=True)"
   ]
  },
  {
   "cell_type": "code",
   "execution_count": 11,
   "id": "21014809-c02d-4f32-8f4f-b7774c6e72bd",
   "metadata": {},
   "outputs": [
    {
     "name": "stderr",
     "output_type": "stream",
     "text": [
      "C:\\Users\\786nn\\AppData\\Local\\Temp\\ipykernel_21040\\3614008390.py:1: SettingWithCopyWarning: \n",
      "A value is trying to be set on a copy of a slice from a DataFrame\n",
      "\n",
      "See the caveats in the documentation: https://pandas.pydata.org/pandas-docs/stable/user_guide/indexing.html#returning-a-view-versus-a-copy\n",
      "  df1.dropna(inplace=True)\n"
     ]
    }
   ],
   "source": [
    "df1.dropna(inplace=True)"
   ]
  },
  {
   "cell_type": "code",
   "execution_count": 12,
   "id": "7dc63c27-522f-428b-b540-20bad9a947c7",
   "metadata": {},
   "outputs": [
    {
     "data": {
      "text/html": [
       "<div>\n",
       "<style scoped>\n",
       "    .dataframe tbody tr th:only-of-type {\n",
       "        vertical-align: middle;\n",
       "    }\n",
       "\n",
       "    .dataframe tbody tr th {\n",
       "        vertical-align: top;\n",
       "    }\n",
       "\n",
       "    .dataframe thead th {\n",
       "        text-align: right;\n",
       "    }\n",
       "</style>\n",
       "<table border=\"1\" class=\"dataframe\">\n",
       "  <thead>\n",
       "    <tr style=\"text-align: right;\">\n",
       "      <th></th>\n",
       "      <th>name</th>\n",
       "      <th>rating</th>\n",
       "      <th>description</th>\n",
       "    </tr>\n",
       "  </thead>\n",
       "  <tbody>\n",
       "    <tr>\n",
       "      <th>0</th>\n",
       "      <td>Neerja</td>\n",
       "      <td>7.9</td>\n",
       "      <td>Neerja is the story of the courageous Neerja B...</td>\n",
       "    </tr>\n",
       "    <tr>\n",
       "      <th>1</th>\n",
       "      <td>Udta Punjab</td>\n",
       "      <td>7.9</td>\n",
       "      <td>A story that revolves around drug abuse in the...</td>\n",
       "    </tr>\n",
       "    <tr>\n",
       "      <th>2</th>\n",
       "      <td>Kabhi Khushi Kabhie Gham...</td>\n",
       "      <td>7.5</td>\n",
       "      <td>Yashvardhan Raichand lives a very wealthy life...</td>\n",
       "    </tr>\n",
       "    <tr>\n",
       "      <th>3</th>\n",
       "      <td>Kal Ho Naa Ho</td>\n",
       "      <td>8.0</td>\n",
       "      <td>Naina, an introverted, perpetually depressed g...</td>\n",
       "    </tr>\n",
       "    <tr>\n",
       "      <th>4</th>\n",
       "      <td>Parched</td>\n",
       "      <td>7.6</td>\n",
       "      <td>'Parched' is a story about women set in the he...</td>\n",
       "    </tr>\n",
       "    <tr>\n",
       "      <th>...</th>\n",
       "      <td>...</td>\n",
       "      <td>...</td>\n",
       "      <td>...</td>\n",
       "    </tr>\n",
       "    <tr>\n",
       "      <th>2838</th>\n",
       "      <td>Run Antony</td>\n",
       "      <td>7.7</td>\n",
       "      <td>Antony is depressed and wants to commit suicid...</td>\n",
       "    </tr>\n",
       "    <tr>\n",
       "      <th>2841</th>\n",
       "      <td>Jolly Days</td>\n",
       "      <td>7.7</td>\n",
       "      <td>A bubbly tale, the story is about four pairs o...</td>\n",
       "    </tr>\n",
       "    <tr>\n",
       "      <th>2842</th>\n",
       "      <td>The Great Story of Sodabuddi</td>\n",
       "      <td>7.7</td>\n",
       "      <td>The film tells the story of Sodabuddi, who spe...</td>\n",
       "    </tr>\n",
       "    <tr>\n",
       "      <th>2844</th>\n",
       "      <td>Vamshi</td>\n",
       "      <td>7.7</td>\n",
       "      <td>Vamshi, under the eye of his mother is living ...</td>\n",
       "    </tr>\n",
       "    <tr>\n",
       "      <th>2847</th>\n",
       "      <td>Chaddi Dosth</td>\n",
       "      <td>7.7</td>\n",
       "      <td>The plot is simple. Ranganna (Rangayana Raghu)...</td>\n",
       "    </tr>\n",
       "  </tbody>\n",
       "</table>\n",
       "<p>1752 rows × 3 columns</p>\n",
       "</div>"
      ],
      "text/plain": [
       "                              name  rating  \\\n",
       "0                           Neerja     7.9   \n",
       "1                      Udta Punjab     7.9   \n",
       "2      Kabhi Khushi Kabhie Gham...     7.5   \n",
       "3                    Kal Ho Naa Ho     8.0   \n",
       "4                          Parched     7.6   \n",
       "...                            ...     ...   \n",
       "2838                    Run Antony     7.7   \n",
       "2841                    Jolly Days     7.7   \n",
       "2842  The Great Story of Sodabuddi     7.7   \n",
       "2844                        Vamshi     7.7   \n",
       "2847                  Chaddi Dosth     7.7   \n",
       "\n",
       "                                            description  \n",
       "0     Neerja is the story of the courageous Neerja B...  \n",
       "1     A story that revolves around drug abuse in the...  \n",
       "2     Yashvardhan Raichand lives a very wealthy life...  \n",
       "3     Naina, an introverted, perpetually depressed g...  \n",
       "4     'Parched' is a story about women set in the he...  \n",
       "...                                                 ...  \n",
       "2838  Antony is depressed and wants to commit suicid...  \n",
       "2841  A bubbly tale, the story is about four pairs o...  \n",
       "2842  The film tells the story of Sodabuddi, who spe...  \n",
       "2844  Vamshi, under the eye of his mother is living ...  \n",
       "2847  The plot is simple. Ranganna (Rangayana Raghu)...  \n",
       "\n",
       "[1752 rows x 3 columns]"
      ]
     },
     "execution_count": 12,
     "metadata": {},
     "output_type": "execute_result"
    }
   ],
   "source": [
    "df1"
   ]
  },
  {
   "cell_type": "code",
   "execution_count": 13,
   "id": "4b949fe6-dc6a-4a30-98d9-e0d6f4e46ad2",
   "metadata": {},
   "outputs": [],
   "source": [
    "# Step 9--->conversion of desciption of movies of dataframe into a corpus using pandas df1.description\n",
    "# Step 10---> TfidfVectorizer and countVectorizer both use for creating feature from corpus and also contain corpus preprocessing tools like lowercase=True,stop_word='english'\n",
    "# Step 11---> Creating dense matrix from sparse matix with the help to toarray() method\n",
    "\n",
    "from sklearn.feature_extraction.text import TfidfVectorizer\n",
    "tf=TfidfVectorizer(lowercase=True,stop_words='english')\n",
    "X_dense=tf.fit_transform(df1.description).toarray()"
   ]
  },
  {
   "cell_type": "code",
   "execution_count": 14,
   "id": "0561b55d-67f1-4751-944e-6d116f7220dd",
   "metadata": {},
   "outputs": [
    {
     "data": {
      "text/html": [
       "<style>#sk-container-id-1 {color: black;background-color: white;}#sk-container-id-1 pre{padding: 0;}#sk-container-id-1 div.sk-toggleable {background-color: white;}#sk-container-id-1 label.sk-toggleable__label {cursor: pointer;display: block;width: 100%;margin-bottom: 0;padding: 0.3em;box-sizing: border-box;text-align: center;}#sk-container-id-1 label.sk-toggleable__label-arrow:before {content: \"▸\";float: left;margin-right: 0.25em;color: #696969;}#sk-container-id-1 label.sk-toggleable__label-arrow:hover:before {color: black;}#sk-container-id-1 div.sk-estimator:hover label.sk-toggleable__label-arrow:before {color: black;}#sk-container-id-1 div.sk-toggleable__content {max-height: 0;max-width: 0;overflow: hidden;text-align: left;background-color: #f0f8ff;}#sk-container-id-1 div.sk-toggleable__content pre {margin: 0.2em;color: black;border-radius: 0.25em;background-color: #f0f8ff;}#sk-container-id-1 input.sk-toggleable__control:checked~div.sk-toggleable__content {max-height: 200px;max-width: 100%;overflow: auto;}#sk-container-id-1 input.sk-toggleable__control:checked~label.sk-toggleable__label-arrow:before {content: \"▾\";}#sk-container-id-1 div.sk-estimator input.sk-toggleable__control:checked~label.sk-toggleable__label {background-color: #d4ebff;}#sk-container-id-1 div.sk-label input.sk-toggleable__control:checked~label.sk-toggleable__label {background-color: #d4ebff;}#sk-container-id-1 input.sk-hidden--visually {border: 0;clip: rect(1px 1px 1px 1px);clip: rect(1px, 1px, 1px, 1px);height: 1px;margin: -1px;overflow: hidden;padding: 0;position: absolute;width: 1px;}#sk-container-id-1 div.sk-estimator {font-family: monospace;background-color: #f0f8ff;border: 1px dotted black;border-radius: 0.25em;box-sizing: border-box;margin-bottom: 0.5em;}#sk-container-id-1 div.sk-estimator:hover {background-color: #d4ebff;}#sk-container-id-1 div.sk-parallel-item::after {content: \"\";width: 100%;border-bottom: 1px solid gray;flex-grow: 1;}#sk-container-id-1 div.sk-label:hover label.sk-toggleable__label {background-color: #d4ebff;}#sk-container-id-1 div.sk-serial::before {content: \"\";position: absolute;border-left: 1px solid gray;box-sizing: border-box;top: 0;bottom: 0;left: 50%;z-index: 0;}#sk-container-id-1 div.sk-serial {display: flex;flex-direction: column;align-items: center;background-color: white;padding-right: 0.2em;padding-left: 0.2em;position: relative;}#sk-container-id-1 div.sk-item {position: relative;z-index: 1;}#sk-container-id-1 div.sk-parallel {display: flex;align-items: stretch;justify-content: center;background-color: white;position: relative;}#sk-container-id-1 div.sk-item::before, #sk-container-id-1 div.sk-parallel-item::before {content: \"\";position: absolute;border-left: 1px solid gray;box-sizing: border-box;top: 0;bottom: 0;left: 50%;z-index: -1;}#sk-container-id-1 div.sk-parallel-item {display: flex;flex-direction: column;z-index: 1;position: relative;background-color: white;}#sk-container-id-1 div.sk-parallel-item:first-child::after {align-self: flex-end;width: 50%;}#sk-container-id-1 div.sk-parallel-item:last-child::after {align-self: flex-start;width: 50%;}#sk-container-id-1 div.sk-parallel-item:only-child::after {width: 0;}#sk-container-id-1 div.sk-dashed-wrapped {border: 1px dashed gray;margin: 0 0.4em 0.5em 0.4em;box-sizing: border-box;padding-bottom: 0.4em;background-color: white;}#sk-container-id-1 div.sk-label label {font-family: monospace;font-weight: bold;display: inline-block;line-height: 1.2em;}#sk-container-id-1 div.sk-label-container {text-align: center;}#sk-container-id-1 div.sk-container {/* jupyter's `normalize.less` sets `[hidden] { display: none; }` but bootstrap.min.css set `[hidden] { display: none !important; }` so we also need the `!important` here to be able to override the default hidden behavior on the sphinx rendered scikit-learn.org. See: https://github.com/scikit-learn/scikit-learn/issues/21755 */display: inline-block !important;position: relative;}#sk-container-id-1 div.sk-text-repr-fallback {display: none;}</style><div id=\"sk-container-id-1\" class=\"sk-top-container\"><div class=\"sk-text-repr-fallback\"><pre>NearestNeighbors()</pre><b>In a Jupyter environment, please rerun this cell to show the HTML representation or trust the notebook. <br />On GitHub, the HTML representation is unable to render, please try loading this page with nbviewer.org.</b></div><div class=\"sk-container\" hidden><div class=\"sk-item\"><div class=\"sk-estimator sk-toggleable\"><input class=\"sk-toggleable__control sk-hidden--visually\" id=\"sk-estimator-id-1\" type=\"checkbox\" checked><label for=\"sk-estimator-id-1\" class=\"sk-toggleable__label sk-toggleable__label-arrow\">NearestNeighbors</label><div class=\"sk-toggleable__content\"><pre>NearestNeighbors()</pre></div></div></div></div></div>"
      ],
      "text/plain": [
       "NearestNeighbors()"
      ]
     },
     "execution_count": 14,
     "metadata": {},
     "output_type": "execute_result"
    }
   ],
   "source": [
    "# Step 12 ---> importing algorithm for recommondation which is NearestNeighbors it partially work like KNN(KNN doesnot have cosinesimilarity in it) and NearestNeighbors have\n",
    "            # cosine_distance and cosine_similarity \n",
    "# Most import NearestNeighbors is for \"Unsupervise learning\" where \"Target\" is not required \n",
    "\n",
    "from sklearn.neighbors import NearestNeighbors\n",
    "model1=NearestNeighbors()                                                   # bydefault it calculate equilidian distance\n",
    "model1.fit(X_dense)"
   ]
  },
  {
   "cell_type": "code",
   "execution_count": 15,
   "id": "af22d98b-5fc8-44e7-ba60-5e46ead8191e",
   "metadata": {},
   "outputs": [
    {
     "data": {
      "text/plain": [
       "(array([[0.        , 1.31854472, 1.32062728, 1.32260465]]),\n",
       " array([[  1, 848, 861, 361]], dtype=int64))"
      ]
     },
     "execution_count": 15,
     "metadata": {},
     "output_type": "execute_result"
    }
   ],
   "source": [
    "model1.kneighbors([X_dense[1]],n_neighbors=4)"
   ]
  },
  {
   "cell_type": "code",
   "execution_count": 16,
   "id": "ecd230f7-6930-463b-a055-b46fa8ce58a5",
   "metadata": {},
   "outputs": [],
   "source": [
    "cosine_dis,pos=model1.kneighbors([X_dense[1]],n_neighbors=4)"
   ]
  },
  {
   "cell_type": "code",
   "execution_count": 17,
   "id": "7e65dfd1-79a2-4bbd-8e09-f361f90b4adb",
   "metadata": {},
   "outputs": [
    {
     "data": {
      "text/plain": [
       "(array([[0.        , 0.86928008, 0.8720282 , 0.87464153]]),\n",
       " array([[  1, 848, 861, 361]], dtype=int64))"
      ]
     },
     "execution_count": 17,
     "metadata": {},
     "output_type": "execute_result"
    }
   ],
   "source": [
    "\n",
    "model1=NearestNeighbors(metric='cosine')   # internally compute cosine distance (1-cosθ) # if i will not mention (metric='cosine') then it will \n",
    "                                            # calculate equilidian distance bydefault which is not much suitable for it \n",
    "model1.fit(X_dense)\n",
    "model1.kneighbors([X_dense[1]],n_neighbors=4) # dense_matrix must pass in 2D array beacuse model train on 2D matrix\n",
    "\n"
   ]
  },
  {
   "cell_type": "code",
   "execution_count": 18,
   "id": "0bf4b8b1-c041-4b83-9eaa-3c74e1bf7922",
   "metadata": {},
   "outputs": [
    {
     "name": "stderr",
     "output_type": "stream",
     "text": [
      "C:\\Users\\786nn\\AppData\\Local\\Temp\\ipykernel_21040\\2580008005.py:12: SettingWithCopyWarning: \n",
      "A value is trying to be set on a copy of a slice from a DataFrame.\n",
      "Try using .loc[row_indexer,col_indexer] = value instead\n",
      "\n",
      "See the caveats in the documentation: https://pandas.pydata.org/pandas-docs/stable/user_guide/indexing.html#returning-a-view-versus-a-copy\n",
      "  df1.name=X\n"
     ]
    },
    {
     "data": {
      "text/html": [
       "<div>\n",
       "<style scoped>\n",
       "    .dataframe tbody tr th:only-of-type {\n",
       "        vertical-align: middle;\n",
       "    }\n",
       "\n",
       "    .dataframe tbody tr th {\n",
       "        vertical-align: top;\n",
       "    }\n",
       "\n",
       "    .dataframe thead th {\n",
       "        text-align: right;\n",
       "    }\n",
       "</style>\n",
       "<table border=\"1\" class=\"dataframe\">\n",
       "  <thead>\n",
       "    <tr style=\"text-align: right;\">\n",
       "      <th></th>\n",
       "      <th>name</th>\n",
       "      <th>rating</th>\n",
       "      <th>description</th>\n",
       "    </tr>\n",
       "  </thead>\n",
       "  <tbody>\n",
       "    <tr>\n",
       "      <th>0</th>\n",
       "      <td>neerja</td>\n",
       "      <td>7.9</td>\n",
       "      <td>Neerja is the story of the courageous Neerja B...</td>\n",
       "    </tr>\n",
       "    <tr>\n",
       "      <th>1</th>\n",
       "      <td>udta punjab</td>\n",
       "      <td>7.9</td>\n",
       "      <td>A story that revolves around drug abuse in the...</td>\n",
       "    </tr>\n",
       "    <tr>\n",
       "      <th>2</th>\n",
       "      <td>kabhi khushi kabhie gham...</td>\n",
       "      <td>7.5</td>\n",
       "      <td>Yashvardhan Raichand lives a very wealthy life...</td>\n",
       "    </tr>\n",
       "    <tr>\n",
       "      <th>3</th>\n",
       "      <td>kal ho naa ho</td>\n",
       "      <td>8.0</td>\n",
       "      <td>Naina, an introverted, perpetually depressed g...</td>\n",
       "    </tr>\n",
       "    <tr>\n",
       "      <th>4</th>\n",
       "      <td>parched</td>\n",
       "      <td>7.6</td>\n",
       "      <td>'Parched' is a story about women set in the he...</td>\n",
       "    </tr>\n",
       "    <tr>\n",
       "      <th>...</th>\n",
       "      <td>...</td>\n",
       "      <td>...</td>\n",
       "      <td>...</td>\n",
       "    </tr>\n",
       "    <tr>\n",
       "      <th>2838</th>\n",
       "      <td>run antony</td>\n",
       "      <td>7.7</td>\n",
       "      <td>Antony is depressed and wants to commit suicid...</td>\n",
       "    </tr>\n",
       "    <tr>\n",
       "      <th>2841</th>\n",
       "      <td>jolly days</td>\n",
       "      <td>7.7</td>\n",
       "      <td>A bubbly tale, the story is about four pairs o...</td>\n",
       "    </tr>\n",
       "    <tr>\n",
       "      <th>2842</th>\n",
       "      <td>the great story of sodabuddi</td>\n",
       "      <td>7.7</td>\n",
       "      <td>The film tells the story of Sodabuddi, who spe...</td>\n",
       "    </tr>\n",
       "    <tr>\n",
       "      <th>2844</th>\n",
       "      <td>vamshi</td>\n",
       "      <td>7.7</td>\n",
       "      <td>Vamshi, under the eye of his mother is living ...</td>\n",
       "    </tr>\n",
       "    <tr>\n",
       "      <th>2847</th>\n",
       "      <td>chaddi dosth</td>\n",
       "      <td>7.7</td>\n",
       "      <td>The plot is simple. Ranganna (Rangayana Raghu)...</td>\n",
       "    </tr>\n",
       "  </tbody>\n",
       "</table>\n",
       "<p>1752 rows × 3 columns</p>\n",
       "</div>"
      ],
      "text/plain": [
       "                              name  rating  \\\n",
       "0                           neerja     7.9   \n",
       "1                      udta punjab     7.9   \n",
       "2      kabhi khushi kabhie gham...     7.5   \n",
       "3                    kal ho naa ho     8.0   \n",
       "4                          parched     7.6   \n",
       "...                            ...     ...   \n",
       "2838                    run antony     7.7   \n",
       "2841                    jolly days     7.7   \n",
       "2842  the great story of sodabuddi     7.7   \n",
       "2844                        vamshi     7.7   \n",
       "2847                  chaddi dosth     7.7   \n",
       "\n",
       "                                            description  \n",
       "0     Neerja is the story of the courageous Neerja B...  \n",
       "1     A story that revolves around drug abuse in the...  \n",
       "2     Yashvardhan Raichand lives a very wealthy life...  \n",
       "3     Naina, an introverted, perpetually depressed g...  \n",
       "4     'Parched' is a story about women set in the he...  \n",
       "...                                                 ...  \n",
       "2838  Antony is depressed and wants to commit suicid...  \n",
       "2841  A bubbly tale, the story is about four pairs o...  \n",
       "2842  The film tells the story of Sodabuddi, who spe...  \n",
       "2844  Vamshi, under the eye of his mother is living ...  \n",
       "2847  The plot is simple. Ranganna (Rangayana Raghu)...  \n",
       "\n",
       "[1752 rows x 3 columns]"
      ]
     },
     "execution_count": 18,
     "metadata": {},
     "output_type": "execute_result"
    }
   ],
   "source": [
    "# Step 13 ---> converting dataframe movies name in smaller case so when user inter the data we can match it with dataframe to check the availability of that film\n",
    "\n",
    "df1.name\n",
    "\n",
    "def lower(doc):\n",
    "    corpus_name=[]\n",
    "    for i in doc:\n",
    "        corpus_name.append(i.lower())\n",
    "    return corpus_name\n",
    "\n",
    "X=lower(df1.name)\n",
    "df1.name=X\n",
    "df1"
   ]
  },
  {
   "cell_type": "code",
   "execution_count": 19,
   "id": "3950a764-bd49-46e1-8360-d627defbbe3f",
   "metadata": {},
   "outputs": [
    {
     "name": "stdin",
     "output_type": "stream",
     "text": [
      "Enter movies name: Neerja\n"
     ]
    }
   ],
   "source": [
    "# Step 14 ---> Asking user to search any movie and my program will suggest whether there is any movies in dataframe matching to user seach. if yes then my program will suggest.\n",
    "\n",
    "movie=input(\"Enter movies name:\")\n",
    "for i in df1.name:\n",
    "    if movie==i:\n",
    "        print('Movies in available')\n",
    "        "
   ]
  },
  {
   "cell_type": "code",
   "execution_count": 20,
   "id": "72b5ad55-8bb0-4ef4-94be-b79bcf2326e1",
   "metadata": {},
   "outputs": [
    {
     "name": "stderr",
     "output_type": "stream",
     "text": [
      "C:\\Users\\786nn\\AppData\\Local\\Temp\\ipykernel_21040\\426885423.py:20: SettingWithCopyWarning: \n",
      "A value is trying to be set on a copy of a slice from a DataFrame.\n",
      "Try using .loc[row_indexer,col_indexer] = value instead\n",
      "\n",
      "See the caveats in the documentation: https://pandas.pydata.org/pandas-docs/stable/user_guide/indexing.html#returning-a-view-versus-a-copy\n",
      "  df1.name=X\n"
     ]
    },
    {
     "name": "stdin",
     "output_type": "stream",
     "text": [
      "Enter movies name: Neerja\n"
     ]
    },
    {
     "name": "stdout",
     "output_type": "stream",
     "text": [
      "khwada\n",
      "sakharam binder\n",
      "sail\n",
      "half ticket\n",
      "neerja is not available\n"
     ]
    }
   ],
   "source": [
    "# Finally mergin all the steps to get full flaged recommendation system(content based recommendation)\n",
    "\n",
    "from sklearn.feature_extraction.text import TfidfVectorizer\n",
    "from sklearn.neighbors import NearestNeighbors\n",
    "\n",
    "tf2=TfidfVectorizer(lowercase=True,stop_words='english')\n",
    "X_dense=tf2.fit_transform(df1.description).toarray()\n",
    "\n",
    "model2=NearestNeighbors(metric='cosine')\n",
    "\n",
    "model2.fit(X_dense)\n",
    "\n",
    "def lower(doc):\n",
    "    corpus_name=[]\n",
    "    for i in doc:\n",
    "        corpus_name.append(i.lower())\n",
    "    return corpus_name\n",
    "\n",
    "X=lower(df1.name)\n",
    "df1.name=X\n",
    "\n",
    "movie=input(\"Enter movies name:\").casefold()\n",
    "for i in df1.name:\n",
    "    if movie==i:\n",
    "        cosine_dis,df_pos=model2.kneighbors(tf2.transform([movie]))\n",
    "        # print(cosine_dis,df_pos)\n",
    "        for i in df_pos[0][1:5]:\n",
    "            print(df1.iloc[i].loc['name'])\n",
    "else:\n",
    "    print(f\"{movie} is not available\")"
   ]
  }
 ],
 "metadata": {
  "kernelspec": {
   "display_name": "Python 3 (ipykernel)",
   "language": "python",
   "name": "python3"
  },
  "language_info": {
   "codemirror_mode": {
    "name": "ipython",
    "version": 3
   },
   "file_extension": ".py",
   "mimetype": "text/x-python",
   "name": "python",
   "nbconvert_exporter": "python",
   "pygments_lexer": "ipython3",
   "version": "3.9.12"
  }
 },
 "nbformat": 4,
 "nbformat_minor": 5
}
